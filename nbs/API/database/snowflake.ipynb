{
 "cells": [
  {
   "cell_type": "markdown",
   "metadata": {},
   "source": [
    "# core\n",
    "\n",
    "> Fill in a module description here"
   ]
  },
  {
   "cell_type": "code",
   "execution_count": null,
   "metadata": {},
   "outputs": [],
   "source": [
    "#| default_exp snowflake"
   ]
  },
  {
   "cell_type": "code",
   "execution_count": null,
   "metadata": {},
   "outputs": [],
   "source": [
    "#| hide\n",
    "from nbdev.showdoc import *"
   ]
  },
  {
   "cell_type": "code",
   "execution_count": null,
   "metadata": {},
   "outputs": [],
   "source": [
    "#| export\n",
    "\n",
    "from triggerkit import core\n",
    "import snowflake.connector\n",
    "from snowflake.connector.connection import SnowflakeConnection\n",
    "from snowflake.connector.cursor import SnowflakeCursor\n",
    "from typing import Dict, List, Callable, Optional, Any, Union"
   ]
  },
  {
   "cell_type": "code",
   "execution_count": null,
   "metadata": {},
   "outputs": [],
   "source": [
    "#| export\n",
    "\n",
    "core.VIEW_REGISTRY: Dict[str, Dict[str, Any]] = {}\n",
    "\n",
    "def register_view(name: str, query: str, metadata: Optional[Dict[str, Any]] = None):\n",
    "    \"\"\"\n",
    "    Register a Snowflake view with the system.\n",
    "    \n",
    "    Args:\n",
    "        name: Name of the view\n",
    "        query: SQL query or view name to fetch datay\n",
    "        metadata: Additional metadata about the view\n",
    "        \n",
    "    Returns:\n",
    "        None\n",
    "    \"\"\"\n",
    "    core.VIEW_REGISTRY[name] = {\n",
    "        'query': query,\n",
    "        'metadata': metadata or {}\n",
    "    }\n",
    "    logger.info(f\"Registered view: {name}\")"
   ]
  },
  {
   "cell_type": "code",
   "execution_count": null,
   "metadata": {},
   "outputs": [],
   "source": [
    "#| export \n",
    "\n",
    "core.snowflake_connection = None\n",
    "\n",
    "def connect(config: Dict[str, Any]) -> SnowflakeConnection:\n",
    "    \"\"\"\n",
    "    Establish connection to Snowflake.\n",
    "    \n",
    "    Args:\n",
    "        config: Dictionary containing Snowflake connection parameters\n",
    "        \n",
    "    Returns:\n",
    "        Snowflake connection object\n",
    "    \"\"\"\n",
    "    # Check for environment variables for sensitive data\n",
    "    password = os.environ.get('SNOWFLAKE_PASSWORD') or config.get('password')\n",
    "    \n",
    "    try:\n",
    "        connection = snowflake.connector.connect(\n",
    "            user=config.get('user'),\n",
    "            password=password,\n",
    "            account=config.get('account'),\n",
    "            warehouse=config.get('warehouse'),\n",
    "            database=config.get('database'),\n",
    "            schema=config.get('schema'),\n",
    "            role=config.get('role', 'ACCOUNTADMIN')\n",
    "        )\n",
    "        logger.info(\"Successfully connected to Snowflake\")\n",
    "        return connection\n",
    "    except Exception as e:\n",
    "        logger.error(f\"Failed to connect to Snowflake: {str(e)}\")\n",
    "        raise"
   ]
  },
  {
   "cell_type": "code",
   "execution_count": null,
   "metadata": {},
   "outputs": [],
   "source": [
    "#| export\n",
    "\n",
    "def query(view_name: str) -> List[Dict[str, Any]]:\n",
    "    \"\"\"\n",
    "    Execute a query for a registered view and return results.\n",
    "    \n",
    "    Args:\n",
    "        view_name: Name of the registered view\n",
    "        \n",
    "    Returns:\n",
    "        List of result rows as dictionaries\n",
    "    \"\"\"\n",
    "    if view_name not in core.VIEW_REGISTRY:\n",
    "        raise ValueError(f\"View '{view_name}' is not registered\")\n",
    "    \n",
    "    if not core.snowflake_connection:\n",
    "        raise ValueError(\"Snowflake connection not established\")\n",
    "    \n",
    "    view_config = core.VIEW_REGISTRY[view_name]\n",
    "    query = view_config['query']\n",
    "    \n",
    "    try:\n",
    "        cursor: SnowflakeCursor = core.snowflake_connection.cursor()\n",
    "        cursor.execute(query)\n",
    "        column_names = [col[0] for col in cursor.description]\n",
    "        \n",
    "        # Convert results to list of dictionaries\n",
    "        results = []\n",
    "        for row in cursor:\n",
    "            results.append(dict(zip(column_names, row)))\n",
    "        \n",
    "        cursor.close()\n",
    "        logger.info(f\"Successfully executed query for view '{view_name}', returned {len(results)} rows\")\n",
    "        return results\n",
    "    except Exception as e:\n",
    "        logger.error(f\"Failed to execute query for view '{view_name}': {str(e)}\")\n",
    "        raise"
   ]
  },
  {
   "cell_type": "code",
   "execution_count": null,
   "metadata": {},
   "outputs": [],
   "source": [
    "#| hide\n",
    "import nbdev; nbdev.nbdev_export()"
   ]
  }
 ],
 "metadata": {
  "kernelspec": {
   "display_name": "python3",
   "language": "python",
   "name": "python3"
  }
 },
 "nbformat": 4,
 "nbformat_minor": 4
}
