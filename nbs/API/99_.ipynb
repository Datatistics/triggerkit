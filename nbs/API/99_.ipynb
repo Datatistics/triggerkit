{
 "cells": [
  {
   "cell_type": "markdown",
   "metadata": {},
   "source": [
    "# core\n",
    "\n",
    "> Shared Utilities and Information"
   ]
  },
  {
   "cell_type": "code",
   "execution_count": null,
   "metadata": {},
   "outputs": [],
   "source": [
    "#| default_exp core"
   ]
  },
  {
   "cell_type": "code",
   "execution_count": null,
   "metadata": {},
   "outputs": [],
   "source": [
    "#| hide\n",
    "from nbdev.showdoc import *"
   ]
  },
  {
   "cell_type": "code",
   "execution_count": null,
   "metadata": {},
   "outputs": [],
   "source": [
    "#| export\n",
    "\n",
    "import toml, logging\n",
    "from typing import Dict, List, Callable, Optional, Any, Union"
   ]
  },
  {
   "cell_type": "code",
   "execution_count": null,
   "metadata": {},
   "outputs": [],
   "source": [
    "#| export\n",
    "\n",
    "logging.basicConfig(\n",
    "    level=logging.INFO,\n",
    "    format='%(asctime)s - %(name)s - %(levelname)s - %(message)s'\n",
    ")\n",
    "logger = logging.getLogger('snowflake_actions')"
   ]
  },
  {
   "cell_type": "code",
   "execution_count": null,
   "metadata": {},
   "outputs": [],
   "source": [
    "#| export\n",
    "def load_config(config_path: str) -> Dict[str, Any]:\n",
    "    \"\"\"\n",
    "    Load configuration from TOML file.\n",
    "    \n",
    "    Args:\n",
    "        config_path: Path to TOML config file\n",
    "        \n",
    "    Returns:\n",
    "        Dictionary containing configuration sections\n",
    "    \"\"\"\n",
    "    try:\n",
    "        config = toml.load(config_path)\n",
    "        logger.info(f\"Successfully loaded config from {config_path}\")\n",
    "        return config\n",
    "    except Exception as e:\n",
    "        logger.error(f\"Failed to load config: {str(e)}\")\n",
    "        raise"
   ]
  },
  {
   "cell_type": "code",
   "execution_count": null,
   "metadata": {},
   "outputs": [],
   "source": [
    "#| hide\n",
    "import nbdev; nbdev.nbdev_export()"
   ]
  }
 ],
 "metadata": {
  "kernelspec": {
   "display_name": "python3",
   "language": "python",
   "name": "python3"
  }
 },
 "nbformat": 4,
 "nbformat_minor": 4
}
