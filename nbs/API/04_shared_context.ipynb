{
 "cells": [
  {
   "cell_type": "code",
   "execution_count": null,
   "id": "824a233f",
   "metadata": {},
   "outputs": [],
   "source": [
    "#| default_exp shared_actions"
   ]
  },
  {
   "cell_type": "code",
   "execution_count": null,
   "id": "602c0b53",
   "metadata": {},
   "outputs": [],
   "source": [
    "#| hide\n",
    "from nbdev.showdoc import *"
   ]
  },
  {
   "cell_type": "code",
   "execution_count": null,
   "id": "7fd3840f",
   "metadata": {},
   "outputs": [],
   "source": [
    "#| export\n",
    "from collections.abc import MutableMapping\n",
    "from typing import Any, Dict\n",
    "from fastcore.foundation import patch\n",
    "import logging"
   ]
  },
  {
   "cell_type": "markdown",
   "id": "519bf159",
   "metadata": {},
   "source": [
    "# shared_context\n",
    "> Informations sharing between actions"
   ]
  },
  {
   "cell_type": "markdown",
   "id": "faefbf0b",
   "metadata": {},
   "source": [
    "We should facilitate the sharing of information between actions. This is a common need in many applications, and we can achieve this by using a shared context.\n",
    "\n",
    "To achieve this, we can create a `SharedContext` class that will hold the shared information. This class will be responsible for storing and retrieving the information as needed."
   ]
  },
  {
   "cell_type": "code",
   "execution_count": null,
   "id": "da051f7d",
   "metadata": {},
   "outputs": [],
   "source": [
    "#| exporti\n",
    "\n",
    "logger = logging.getLogger(\"TriggerKit-SharedContext\")"
   ]
  },
  {
   "cell_type": "code",
   "execution_count": null,
   "id": "c0aaf176",
   "metadata": {},
   "outputs": [],
   "source": [
    "#| export\n",
    "\n",
    "class SharedContext(MutableMapping):\n",
    "    \"\"\"\n",
    "    A dictionary-like object that allows sharing of context between different parts of a program.\n",
    "    It is designed to be used as a singleton, ensuring that all parts of the program share the same context.\n",
    "    \"\"\"\n",
    "    def __init__(self, base: Dict[str, Any] = None):\n",
    "        self._data = base or {}\n",
    "        self._writes = {} # Record of writes during this run\n",
    "\n",
    "    def __getitem__(self, key):\n",
    "        return self._data[key]\n",
    "\n",
    "    def __setitem__(self, key, value):\n",
    "        self._data[key] = value\n",
    "        self._writes[key] = value\n",
    "        logger.debug(f\"[context] Set key '{key}' = {repr(value)}\")\n",
    "\n",
    "    def __delitem__(self, key):\n",
    "        del self._data[key]\n",
    "        self._writes[key] = None\n",
    "        logger.debug(f\"[context] Deleted key '{key}'\")\n",
    "\n",
    "    def __iter__(self):\n",
    "        return iter(self._data)\n",
    "\n",
    "    def __len__(self):\n",
    "        return len(self._data)\n",
    "\n",
    "    def get(self, key, default=None):\n",
    "        return self._data.get(key, default)\n",
    "\n",
    "    def to_dict(self) -> Dict[str, Any]:\n",
    "        return dict(self._data)\n",
    "    \n",
    "    def __setattr__(self, key, value):\n",
    "        logger.debug(f\"[context] Set key '{key}' = {repr(value)}\")\n",
    "        if key in {\"_data\", \"_writes\"}:\n",
    "            super().__setattr__(key, value)\n",
    "        else:\n",
    "            self._data[key] = value\n",
    "            self._writes[key] = value\n",
    "\n",
    "    def __getattr__(self, key):\n",
    "        return self._data.get(key)\n"
   ]
  },
  {
   "cell_type": "markdown",
   "id": "6fbeaeec",
   "metadata": {},
   "source": [
    "To make it easy to use, the class should be access like a dictionary, allowing us to set and get values using the `[]` operator. This will make it easy to share information between actions without having to pass it around explicitly."
   ]
  },
  {
   "cell_type": "code",
   "execution_count": null,
   "id": "f56f973e",
   "metadata": {},
   "outputs": [],
   "source": [
    "#| export\n",
    "\n",
    "@patch\n",
    "def __contains__(self: SharedContext, key):\n",
    "    return key in self._data\n",
    "\n",
    "@patch\n",
    "def __repr__(self: SharedContext):\n",
    "    return f\"SharedContext({self._data})\"\n",
    "\n",
    "@patch\n",
    "def __str__(self: SharedContext):\n",
    "    return f\"SharedContext({self._data})\"\n",
    "\n",
    "@patch\n",
    "def __eq__(self: SharedContext, other):\n",
    "    if isinstance(other, SharedContext):\n",
    "        return self._data == other._data\n",
    "    return False\n",
    "\n",
    "@patch\n",
    "def __ne__(self: SharedContext, other):\n",
    "    if isinstance(other, SharedContext):\n",
    "        return self._data != other._data\n",
    "    return True\n"
   ]
  },
  {
   "cell_type": "markdown",
   "id": "758a2a9c",
   "metadata": {},
   "source": [
    "For example, a TriggerKit user might want their create a google sheet and then refrence sheet's id in a later action. This can be done by storing the sheet id in the shared context after creating the sheet, and then retrieving it in the next action."
   ]
  },
  {
   "cell_type": "code",
   "execution_count": null,
   "id": "5bcf2869",
   "metadata": {},
   "outputs": [
    {
     "name": "stdout",
     "output_type": "stream",
     "text": [
      "1B34VeLhAnujcnDO1Q8mcTsgDW42Q2nZBEA8mWOLFiPE\n"
     ]
    }
   ],
   "source": [
    "example = SharedContext()\n",
    "example['sheet_id'] = '1B34VeLhAnujcnDO1Q8mcTsgDW42Q2nZBEA8mWOLFiPE'\n",
    "\n",
    "print(example['sheet_id'])"
   ]
  },
  {
   "cell_type": "markdown",
   "id": "bedbaf1e",
   "metadata": {},
   "source": [
    "Maybe the user also chains in a function that looks for what emails to share the sheet with and wants to store the result in the shared context as well"
   ]
  },
  {
   "cell_type": "code",
   "execution_count": null,
   "id": "0e9a571b",
   "metadata": {},
   "outputs": [
    {
     "name": "stdout",
     "output_type": "stream",
     "text": [
      "['cO8dD@example.com', 'hYh0q@example.com']\n"
     ]
    }
   ],
   "source": [
    "example.emails = ['cO8dD@example.com', 'hYh0q@example.com']\n",
    "\n",
    "print(example.emails)"
   ]
  },
  {
   "cell_type": "markdown",
   "id": "30e68178",
   "metadata": {},
   "source": [
    "We might want a way to see what value pairs are added by actions, so let's add a way to check what values a action added during it's run. This could be a simple  dictionary that get's cleared after each action run. This will allow us to see what values were added by each action, and we can use this information to debug any issues that may arise. "
   ]
  },
  {
   "cell_type": "code",
   "execution_count": null,
   "id": "ab73be5d",
   "metadata": {},
   "outputs": [],
   "source": [
    "#| export\n",
    "\n",
    "@patch\n",
    "def updates(self: SharedContext) -> Dict[str, Any]:\n",
    "    \"\"\"Returns the subset of keys written during this run.\"\"\"\n",
    "    return dict(self._writes)\n",
    "\n",
    "@patch\n",
    "def clear_updates(self: SharedContext):\n",
    "    \"\"\"Clears the updates made during this run.\"\"\"\n",
    "    self._writes.clear()"
   ]
  },
  {
   "cell_type": "markdown",
   "id": "f2ebfb6e",
   "metadata": {},
   "source": [
    "Now, let's see if the `updates` method works. This method could be called by the action runner to update the shared context with new information. The method should take a dictionary as an argument and update the shared context with the new values."
   ]
  },
  {
   "cell_type": "code",
   "execution_count": null,
   "id": "698dfaea",
   "metadata": {},
   "outputs": [
    {
     "data": {
      "text/plain": [
       "{'sheet_id': '1B34VeLhAnujcnDO1Q8mcTsgDW42Q2nZBEA8mWOLFiPE',\n",
       " 'emails': ['cO8dD@example.com', 'hYh0q@example.com']}"
      ]
     },
     "execution_count": null,
     "metadata": {},
     "output_type": "execute_result"
    }
   ],
   "source": [
    "example.updates()"
   ]
  },
  {
   "cell_type": "markdown",
   "id": "29fa3896",
   "metadata": {},
   "source": [
    "That looks good! What about the clear method? This method should be called by the action runner to clear the log of what is added between runs."
   ]
  },
  {
   "cell_type": "code",
   "execution_count": null,
   "id": "63e69ed6",
   "metadata": {},
   "outputs": [
    {
     "name": "stdout",
     "output_type": "stream",
     "text": [
      "{}\n"
     ]
    }
   ],
   "source": [
    "example.clear_updates()\n",
    "print(example.updates())"
   ]
  },
  {
   "cell_type": "markdown",
   "id": "7ee1a587",
   "metadata": {},
   "source": [
    "Perfect! Looks like things are working as expected. "
   ]
  },
  {
   "cell_type": "code",
   "execution_count": null,
   "id": "a8191c22",
   "metadata": {},
   "outputs": [],
   "source": [
    "#| hide\n",
    "import nbdev; nbdev.nbdev_export()"
   ]
  }
 ],
 "metadata": {
  "kernelspec": {
   "display_name": "python3",
   "language": "python",
   "name": "python3"
  }
 },
 "nbformat": 4,
 "nbformat_minor": 5
}
