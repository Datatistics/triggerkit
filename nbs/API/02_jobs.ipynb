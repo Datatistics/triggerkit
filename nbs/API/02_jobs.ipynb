{
 "cells": [
  {
   "cell_type": "markdown",
   "metadata": {},
   "source": [
    "# jobs\n",
    "\n",
    "> Fill in a module description here"
   ]
  },
  {
   "cell_type": "code",
   "execution_count": null,
   "metadata": {},
   "outputs": [],
   "source": [
    "#| default_exp jobs"
   ]
  },
  {
   "cell_type": "code",
   "execution_count": null,
   "metadata": {},
   "outputs": [],
   "source": [
    "#| hide\n",
    "from nbdev.showdoc import *"
   ]
  },
  {
   "cell_type": "code",
   "execution_count": null,
   "metadata": {},
   "outputs": [],
   "source": [
    "#| export\n",
    "\n",
    "import schedule\n",
    "from triggerkit import core\n",
    "from typing import Dict, List, Callable, Optional, Any, Union"
   ]
  },
  {
   "cell_type": "code",
   "execution_count": null,
   "metadata": {},
   "outputs": [],
   "source": [
    "#| export\n",
    "def create(view_name: str, action_names: Union[str, List[str]], job_name: Optional[str] = None):\n",
    "    \"\"\"\n",
    "    Create a job function that fetches data from a view and runs specified actions.\n",
    "    \n",
    "    Args:\n",
    "        view_name: Name of the registered view\n",
    "        action_names: Name or list of names of registered actions\n",
    "        job_name: Optional name for the job\n",
    "        \n",
    "    Returns:\n",
    "        Job function\n",
    "    \"\"\"\n",
    "    if isinstance(action_names, str):\n",
    "        action_names = [action_names]\n",
    "    \n",
    "    if not job_name:\n",
    "        job_name = f\"{view_name}_{'_'.join(action_names)}_job\"\n",
    "    \n",
    "    def job():\n",
    "        core.logger.info(f\"Running job '{job_name}'\")\n",
    "        try:\n",
    "            # Fetch data from view\n",
    "            data = execute_query(view_name)\n",
    "            \n",
    "            # Run each action\n",
    "            results = {}\n",
    "            for action_name in action_names:\n",
    "                results[action_name] = run_action(action_name, data)\n",
    "            \n",
    "            core.logger.info(f\"Job '{job_name}' completed successfully\")\n",
    "            return results\n",
    "        except Exception as e:\n",
    "            core.logger.error(f\"Job '{job_name}' failed: {str(e)}\")\n",
    "            raise\n",
    "    \n",
    "    job.__name__ = job_name\n",
    "    return job"
   ]
  },
  {
   "cell_type": "code",
   "execution_count": null,
   "metadata": {},
   "outputs": [],
   "source": [
    "#| export\n",
    "\n",
    "def schedule_jobs(config: Dict[str, Any]):\n",
    "    \"\"\"\n",
    "    Schedule jobs based on TOML configuration.\n",
    "    \n",
    "    Args:\n",
    "        config: Dictionary containing configuration sections\n",
    "        \n",
    "    Returns:\n",
    "        None\n",
    "    \"\"\"\n",
    "    jobs = config.get('jobs', [])\n",
    "    \n",
    "    for job_config in jobs:\n",
    "        name = job_config.get('name')\n",
    "        view_name = job_config.get('view')\n",
    "        actions = job_config.get('actions', [])\n",
    "        schedule_str = job_config.get('schedule')\n",
    "        enabled = job_config.get('enabled', True)\n",
    "        run_at = job_config.get('run_at')\n",
    "        \n",
    "        if not enabled:\n",
    "            core.logger.info(f\"Job '{name}' is disabled, skipping\")\n",
    "            continue\n",
    "            \n",
    "        if not all([view_name, actions, schedule_str]):\n",
    "            core.logger.warning(f\"Skipping invalid job configuration: {job_config}\")\n",
    "            continue\n",
    "        \n",
    "        job = create_job(view_name, actions, name)\n",
    "        \n",
    "        # Parse schedule string and set up schedule\n",
    "        schedule_parts = schedule_str.split()\n",
    "        if len(schedule_parts) >= 3 and schedule_parts[0] == \"every\":\n",
    "            try:\n",
    "                interval = int(schedule_parts[1])\n",
    "                unit = schedule_parts[2].lower()\n",
    "                \n",
    "                scheduler = None\n",
    "                if unit in ('minute', 'minutes'):\n",
    "                    scheduler = schedule.every(interval).minutes\n",
    "                elif unit in ('hour', 'hours'):\n",
    "                    scheduler = schedule.every(interval).hours\n",
    "                elif unit in ('day', 'days'):\n",
    "                    scheduler = schedule.every(interval).days\n",
    "                else:\n",
    "                    core.logger.warning(f\"Unsupported schedule unit: {unit}\")\n",
    "                    continue\n",
    "                \n",
    "                # Add specific time if provided\n",
    "                if run_at and unit in ('day', 'days'):\n",
    "                    try:\n",
    "                        hour, minute = map(int, run_at.split(':'))\n",
    "                        run_time = datetime_time(hour=hour, minute=minute)\n",
    "                        scheduler = scheduler.at(run_at)\n",
    "                    except (ValueError, AttributeError):\n",
    "                        core.logger.warning(f\"Invalid run_at time format: {run_at}, expected HH:MM. Using default.\")\n",
    "                \n",
    "                scheduler.do(job)\n",
    "                core.logger.info(f\"Scheduled job '{name}' for view '{view_name}' with actions {actions} to run {schedule_str}\" + \n",
    "                           (f\" at {run_at}\" if run_at and unit in ('day', 'days') else \"\"))\n",
    "            except ValueError:\n",
    "                core.logger.warning(f\"Invalid schedule format: {schedule_str}\")\n",
    "                continue\n",
    "        else:\n",
    "            core.logger.warning(f\"Unsupported schedule format: {schedule_str}\")\n",
    "            continue"
   ]
  },
  {
   "cell_type": "code",
   "execution_count": null,
   "metadata": {},
   "outputs": [],
   "source": [
    "#| export\n",
    "\n",
    "def run_scheduler():\n",
    "    \"\"\"Run the scheduler loop.\"\"\"\n",
    "    logger.info(\"Starting scheduler\")\n",
    "    while True:\n",
    "        schedule.run_pending()\n",
    "        time.sleep(1)"
   ]
  },
  {
   "cell_type": "code",
   "execution_count": null,
   "metadata": {},
   "outputs": [],
   "source": [
    "#| hide\n",
    "import nbdev; nbdev.nbdev_export()"
   ]
  }
 ],
 "metadata": {
  "kernelspec": {
   "display_name": "python3",
   "language": "python",
   "name": "python3"
  }
 },
 "nbformat": 4,
 "nbformat_minor": 4
}
