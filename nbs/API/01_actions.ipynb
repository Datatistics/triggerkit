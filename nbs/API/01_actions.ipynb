{
 "cells": [
  {
   "cell_type": "code",
   "execution_count": null,
   "metadata": {},
   "outputs": [],
   "source": [
    "#| default_exp actions"
   ]
  },
  {
   "cell_type": "code",
   "execution_count": null,
   "metadata": {},
   "outputs": [],
   "source": [
    "#| hide\n",
    "from nbdev.showdoc import *"
   ]
  },
  {
   "cell_type": "code",
   "execution_count": null,
   "metadata": {},
   "outputs": [],
   "source": [
    "#| export\n",
    "from triggerkit import util\n",
    "import functools\n",
    "import inspect\n",
    "import uuid\n",
    "from typing import Dict, List, Callable, Optional, Any, Union"
   ]
  },
  {
   "cell_type": "markdown",
   "metadata": {},
   "source": [
    "# actions"
   ]
  },
  {
   "cell_type": "markdown",
   "metadata": {},
   "source": [
    "When your views yields results, what **TriggerKit** performs are **actions**. These are functions that take in results and perform things like send slack messages, perform SQL operations, make API calls, etc. \n",
    "\n",
    "You can either use some of our built-in actions or build your own!"
   ]
  },
  {
   "cell_type": "markdown",
   "metadata": {},
   "source": [
    "## Built In Actions:"
   ]
  },
  {
   "cell_type": "code",
   "execution_count": null,
   "metadata": {},
   "outputs": [],
   "source": [
    "#| export\n",
    "\n",
    "def send_slack_message(data): \n",
    "    \"\"\"\n",
    "    Use the returned data to send slack messages. This could be used for creating alerts for data issues, reporting on metrics, etc.\n",
    "    \"\"\"\n",
    "    pass\n",
    "\n",
    "def run_sql(data): \n",
    "    pass"
   ]
  },
  {
   "cell_type": "markdown",
   "metadata": {},
   "source": [
    "## Make Your Own Actions\n",
    "\n",
    "It is simple to make your own actions. All you have to do is make a function that takes in a List of Dicts and `register` it with the system\n"
   ]
  },
  {
   "cell_type": "markdown",
   "metadata": {},
   "source": [
    "Example action:\n",
    "\n",
    "```python\n",
    "from triggerkit import register\n",
    "\n",
    "@register('My Action','Does something I want')\n",
    "def my_action(\n",
    "    data: List[Dict],               # List of results from the view\n",
    "    context: Dict[str, Any],        # Shared context between actions\n",
    "    config: Dict[str, Any],         # Config for the action - Passes job-specific parameters (e.g. thresholds, channel IDs)\n",
    "    job_name: str,                  # (Optional) Name of the job  - Helpful for logging, auditing, and debugging\n",
    "    run_id: str,                    # (Optional) Unqiue ID of the run - Useful for traceability in logs, alerts, and audits\n",
    "    **kwargs\n",
    ") -> Dict[str, Any]:\n",
    "    ..."
   ]
  },
  {
   "cell_type": "code",
   "execution_count": null,
   "metadata": {},
   "outputs": [],
   "source": [
    "#| export\n",
    "util.ACTION_REGISTRY: Dict[str, Callable] = {}\n",
    "\n",
    "# Standard action schema\n",
    "ACTION_SCHEMA = {\n",
    "    \"data\": {\"type\": \"List[Dict]\", \"description\": \"Rows from the Snowflake view.\"},\n",
    "    \"context\": {\"type\": \"Dict[str, Any]\", \"description\": \"Shared context between actions.\"},\n",
    "    \"job_name\": {\"type\": \"str\", \"description\": \"Name of the job triggering this action.\",\"optional\": True},\n",
    "    \"run_id\": {\"type\": \"str\", \"description\": \"Unique ID for this run.\",\"optional\": True},\n",
    "}\n",
    "\n",
    "def _gen_action_doc(func,schema):\n",
    "    lines = [\"Arguments:\", \"\"]\n",
    "    sig = inspect.signature(func)\n",
    "    for param in sig.parameters.values():\n",
    "        if param.name not in schema:\n",
    "            lines.append(f\"- `{param.name}` ({param.annotation.__name__}): {param.default}\")\n",
    "        else:\n",
    "            meta = schema[param.name]\n",
    "            opt = \" (optional)\" if meta.get(\"optional\") else \"\"\n",
    "            lines.append(f\"- `{param.name}` ({meta['type']}){opt}: {meta['description']}\")\n",
    "    return \"\\n\".join(lines)\n",
    "\n",
    "def _validate_action_function(func, schema):\n",
    "    sig = inspect.signature(func)\n",
    "    missing = [\n",
    "        k for k in schema\n",
    "        if k not in sig.parameters and not schema[k].get(\"optional\")\n",
    "    ]\n",
    "    if missing:\n",
    "        raise ValueError(f\"Action '{func.__name__}' is missing required argument(s): {missing}\")\n",
    "\n"
   ]
  },
  {
   "cell_type": "code",
   "execution_count": null,
   "metadata": {},
   "outputs": [
    {
     "name": "stdout",
     "output_type": "stream",
     "text": [
      "Help on function example_action in module __main__:\n",
      "\n",
      "example_action(data, context, config, job_name, run_id=None, dry_run=False, unique_id: int = None)\n",
      "    Arguments:\n",
      "    \n",
      "    - `data` (List[Dict]): Rows from the Snowflake view.\n",
      "    - `context` (Dict[str, Any]): Shared context between actions.\n",
      "    - `config` (_empty): <class 'inspect._empty'>\n",
      "    - `job_name` (str) (optional): Name of the job triggering this action.\n",
      "    - `run_id` (str) (optional): Unique ID for this run.\n",
      "    - `dry_run` (_empty): False\n",
      "    - `unique_id` (int): None\n",
      "\n"
     ]
    }
   ],
   "source": [
    "#| hide\n",
    "\n",
    "# Checking the docstring gerenated from the function\n",
    "\n",
    "def example_action(data, context, config, job_name, run_id=None, dry_run=False, unique_id: int=None):\n",
    "    pass\n",
    "\n",
    "def check_gen_doc(fn,name,description=None):\n",
    "    if not fn.__doc__:\n",
    "            fn.__doc__ = _gen_action_doc(fn,ACTION_SCHEMA)\n",
    "    \n",
    "    return fn\n",
    "\n",
    "example_action = check_gen_doc(example_action,\"example_action\",\"Example action function.\")\n",
    "help(example_action)"
   ]
  },
  {
   "cell_type": "code",
   "execution_count": null,
   "metadata": {},
   "outputs": [],
   "source": [
    "#| export\n",
    "\n",
    "def register(name: str, description: Optional[str] = None, overwrite: bool = False) -> Callable:\n",
    "    \"\"\"\n",
    "    Register your function as an action in the global registry.\n",
    "    \n",
    "    **Args**: \n",
    "        \\n • `name`: Descriptive name for your action\n",
    "        \\n • `description`: Optional description of what the action does\n",
    "\n",
    "    **Raises**:\n",
    "       \\n • `ValueError`: If an action with the same name already exists\n",
    "    \"\"\"\n",
    "    def decorator(fn: Callable) -> Callable:\n",
    "        _validate_action_function(fn, ACTION_SCHEMA)\n",
    "\n",
    "        if name in util.ACTION_REGISTRY and util.ACTION_REGISTRY[name] != fn and not overwrite:\n",
    "            util.logger.warning(f\"Action '{name}' already exists. Keeping the existing one.\")\n",
    "            return fn\n",
    "        if name in util.ACTION_REGISTRY and overwrite:\n",
    "            util.logger.warning(f\"Overwriting existing action '{name}' with new one.\")\n",
    "            # Remove the old action\n",
    "            del util.ACTION_REGISTRY[name]\n",
    "        \n",
    "        if not fn.__doc__: fn.__doc__ =  _gen_action_doc(fn,ACTION_SCHEMA)\n",
    "        \n",
    "        # Add metadata to the function\n",
    "        fn._action_name = name\n",
    "        fn._action_description = description\n",
    "        \n",
    "        # Add to registry\n",
    "        util.ACTION_REGISTRY[name] = fn\n",
    "        \n",
    "        # Preserve function metadata like docstrings\n",
    "        @functools.wraps(fn)\n",
    "        def wrapper(*args, **kwargs):\n",
    "            return fn(*args, **kwargs)\n",
    "        \n",
    "        return wrapper\n",
    "    util.logger.info(f\"Registered action: {name}\")\n",
    "    return decorator"
   ]
  },
  {
   "cell_type": "code",
   "execution_count": null,
   "metadata": {},
   "outputs": [],
   "source": [
    "#| export\n",
    "\n",
    "def list_available():\n",
    "    \"\"\"List all registered actions with their descriptions.\"\"\"\n",
    "    print(\"Available actions:\")\n",
    "    for name, fn in util.ACTION_REGISTRY.items():\n",
    "        description = getattr(fn, \"_action_description\", \"No description available\")\n",
    "        print(f\"  - {name}: {description}\")\n",
    "    return util.ACTION_REGISTRY\n",
    "\n",
    "def get_info(name: str) -> Dict[str, Any]:\n",
    "    \"\"\"Get detailed information about a specific action.\"\"\"\n",
    "    if name not in util.ACTION_REGISTRY:\n",
    "        raise ValueError(f\"No action named '{name}' is registered.\")\n",
    "    \n",
    "    fn = util.ACTION_REGISTRY[name]\n",
    "    info = {\n",
    "        \"name\": name,\n",
    "        \"description\": getattr(fn, \"_action_description\", \"No description available\"),\n",
    "        \"docstring\": fn.__doc__ or \"No documentation\",\n",
    "        \"signature\": str(inspect.signature(fn))\n",
    "    }\n",
    "    return info"
   ]
  },
  {
   "cell_type": "code",
   "execution_count": null,
   "metadata": {},
   "outputs": [],
   "source": [
    "#| export\n",
    "\n",
    "def run(action_name: str, \n",
    "        data: List[Dict[str, Any]],\n",
    "        context: Optional[Dict[str, Any]] = None,\n",
    "        config: Optional[Dict[str, Any]] = None,\n",
    "        job_name: Optional[str] = None,\n",
    "        dry_run: Optional[bool] = False\n",
    "        ) -> Any:\n",
    "    \"\"\"\n",
    "    Run a registered action with the provided data.\n",
    "    \n",
    "    **Args:** \n",
    "        \\n • `action_name`: Name of the registered action\n",
    "        \\n • `data`: Data to pass to the action\n",
    "        \n",
    "    **Returns:**\n",
    "        Result of the action\n",
    "    \"\"\"\n",
    "    if action_name not in util.ACTION_REGISTRY:\n",
    "        raise ValueError(f\"No action named '{action_name}' is registered\")\n",
    "    \n",
    "    action = util.ACTION_REGISTRY[action_name]\n",
    "\n",
    "    try:\n",
    "        params = {  \"data\": data,\n",
    "                    \"context\": context or {},\n",
    "                    \"config\": config or {},\n",
    "                    \"job_name\": job_name,\n",
    "                    \"run_id\": str(uuid.uuid4()),\n",
    "                    \"dry_run\": dry_run}\n",
    "        \n",
    "        # Call the action with the parameters it accepts\n",
    "        sig = inspect.signature(action)\n",
    "        accepted_params = {k: v for k, v in params.items() if k in sig.parameters}\n",
    "\n",
    "        result = action(**accepted_params)\n",
    "    except Exception as e:\n",
    "        util.logger.error(f\"Failed to execute action '{action_name}': {str(e)}\")\n",
    "    else:\n",
    "        util.logger.info(f\"Action '{action_name}' completed successfully\")\n",
    "        return result"
   ]
  },
  {
   "cell_type": "code",
   "execution_count": null,
   "metadata": {},
   "outputs": [],
   "source": [
    "#| hide\n",
    "import nbdev; nbdev.nbdev_export()"
   ]
  }
 ],
 "metadata": {
  "kernelspec": {
   "display_name": "python3",
   "language": "python",
   "name": "python3"
  }
 },
 "nbformat": 4,
 "nbformat_minor": 4
}
