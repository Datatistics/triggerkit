{
 "cells": [
  {
   "cell_type": "code",
   "execution_count": null,
   "metadata": {},
   "outputs": [],
   "source": [
    "#| default_exp actions"
   ]
  },
  {
   "cell_type": "code",
   "execution_count": null,
   "metadata": {},
   "outputs": [],
   "source": [
    "#| hide\n",
    "from nbdev.showdoc import *"
   ]
  },
  {
   "cell_type": "code",
   "execution_count": null,
   "metadata": {},
   "outputs": [],
   "source": [
    "#| export\n",
    "from triggerkit import core\n",
    "from typing import Dict, List, Callable, Optional, Any, Union"
   ]
  },
  {
   "cell_type": "markdown",
   "metadata": {},
   "source": [
    "# actions"
   ]
  },
  {
   "cell_type": "markdown",
   "metadata": {},
   "source": [
    "When your views yields results, what **TriggerKit** performs are **actions**. These are functions that take in results and perform things like send slack messages, perform SQL operations, make API calls, etc. \n",
    "\n",
    "You can either use some of our built-in actions or build your own!"
   ]
  },
  {
   "cell_type": "markdown",
   "metadata": {},
   "source": [
    "## Built In Actions:"
   ]
  },
  {
   "cell_type": "code",
   "execution_count": null,
   "metadata": {},
   "outputs": [],
   "source": [
    "#| export\n",
    "\n",
    "def send_slack_message(data): \n",
    "    \"\"\"\n",
    "    Use the returned data to send slack messages. This could be used for creating alerts for data issues, reporting on metrics, etc.\n",
    "    \"\"\"\n",
    "    pass\n",
    "\n",
    "def run_sql(data): \n",
    "    pass"
   ]
  },
  {
   "cell_type": "markdown",
   "metadata": {},
   "source": [
    "## Make Your Own Actions\n",
    "\n",
    "It is simple to make your own actions. All you have to do is make a function that takes in a List of Dicts and `register` it with the system\n"
   ]
  },
  {
   "cell_type": "code",
   "execution_count": null,
   "metadata": {},
   "outputs": [],
   "source": [
    "#| export\n",
    "\n",
    "core.ACTION_REGISTRY: Dict[str, Callable] = {}\n",
    "\n",
    "def register(name: str, description: Optional[str] = None):\n",
    "    \"\"\"\n",
    "    Register your function as an action in the global registry.\n",
    "    \n",
    "    **Args**: \n",
    "        \\n • `name`: Descriptive name for your action\n",
    "        \\n • `description`: Optional description of what the action does\n",
    "\n",
    "    **Raises**:\n",
    "       \\n • `ValueError`: If an action with the same name already exists\n",
    "    \"\"\"\n",
    "    def decorator(fn: Callable) -> Callable:\n",
    "        if name in core.ACTION_REGISTRY and core.ACTION_REGISTRY[name] != fn:\n",
    "            raise ValueError(f\"An action named '{name}' is already registered.\")\n",
    "        \n",
    "        # Add metadata to the function\n",
    "        fn._action_name = name\n",
    "        fn._action_description = description\n",
    "        \n",
    "        # Add to registry\n",
    "        core.ACTION_REGISTRY[name] = fn\n",
    "        \n",
    "        # Preserve function metadata like docstrings\n",
    "        @functools.wraps(fn)\n",
    "        def wrapper(*args, **kwargs):\n",
    "            return fn(*args, **kwargs)\n",
    "        \n",
    "        return wrapper\n",
    "    \n",
    "    return decorator"
   ]
  },
  {
   "cell_type": "code",
   "execution_count": null,
   "metadata": {},
   "outputs": [],
   "source": [
    "#| export\n",
    "\n",
    "def list_available():\n",
    "    \"\"\"List all registered actions with their descriptions.\"\"\"\n",
    "    print(\"Available actions:\")\n",
    "    for name, fn in core.ACTION_REGISTRY.items():\n",
    "        description = getattr(fn, \"_action_description\", \"No description available\")\n",
    "        print(f\"  - {name}: {description}\")\n",
    "    return core.ACTION_REGISTRY\n",
    "\n",
    "def get_info(name: str) -> Dict[str, Any]:\n",
    "    \"\"\"Get detailed information about a specific action.\"\"\"\n",
    "    if name not in core.ACTION_REGISTRY:\n",
    "        raise ValueError(f\"No action named '{name}' is registered.\")\n",
    "    \n",
    "    fn = core.ACTION_REGISTRY[name]\n",
    "    info = {\n",
    "        \"name\": name,\n",
    "        \"description\": getattr(fn, \"_action_description\", \"No description available\"),\n",
    "        \"docstring\": fn.__doc__ or \"No documentation\",\n",
    "        \"signature\": str(inspect.signature(fn))\n",
    "    }\n",
    "    return info"
   ]
  },
  {
   "cell_type": "code",
   "execution_count": null,
   "metadata": {},
   "outputs": [],
   "source": [
    "#| export\n",
    "\n",
    "def run(action_name: str, data: List[Dict[str, Any]]) -> Any:\n",
    "    \"\"\"\n",
    "    Run a registered action with the provided data.\n",
    "    \n",
    "    Args:\n",
    "        action_name: Name of the registered action\n",
    "        data: Data to pass to the action\n",
    "        \n",
    "    Returns:\n",
    "        Result of the action\n",
    "    \"\"\"\n",
    "    if action_name not in core.ACTION_REGISTRY:\n",
    "        raise ValueError(f\"No action named '{action_name}' is registered\")\n",
    "    \n",
    "    action = core.ACTION_REGISTRY[action_name]\n",
    "    try:\n",
    "        result = action(data)\n",
    "        core.logger.info(f\"Successfully executed action '{action_name}'\")\n",
    "        return result\n",
    "    except Exception as e:\n",
    "        core.logger.error(f\"Failed to execute action '{action_name}': {str(e)}\")\n",
    "        raise"
   ]
  },
  {
   "cell_type": "code",
   "execution_count": null,
   "metadata": {},
   "outputs": [],
   "source": [
    "#| hide\n",
    "import nbdev; nbdev.nbdev_export()"
   ]
  }
 ],
 "metadata": {
  "kernelspec": {
   "display_name": "python3",
   "language": "python",
   "name": "python3"
  }
 },
 "nbformat": 4,
 "nbformat_minor": 4
}
