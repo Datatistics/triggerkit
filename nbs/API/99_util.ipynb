{
 "cells": [
  {
   "cell_type": "markdown",
   "metadata": {},
   "source": [
    "# util\n",
    "\n",
    "> Shared Utilities and Information"
   ]
  },
  {
   "cell_type": "code",
   "execution_count": null,
   "metadata": {},
   "outputs": [],
   "source": [
    "#| default_exp util"
   ]
  },
  {
   "cell_type": "code",
   "execution_count": null,
   "metadata": {},
   "outputs": [],
   "source": [
    "#| hide\n",
    "from nbdev.showdoc import *"
   ]
  },
  {
   "cell_type": "code",
   "execution_count": null,
   "metadata": {},
   "outputs": [],
   "source": [
    "#| export\n",
    "\n",
    "import toml, logging, re, os\n",
    "from typing import Dict, Any"
   ]
  },
  {
   "cell_type": "code",
   "execution_count": null,
   "metadata": {},
   "outputs": [],
   "source": [
    "#| export\n",
    "\n",
    "logging.basicConfig(\n",
    "    level=logging.INFO,\n",
    "    format='%(asctime)s - %(name)s - %(levelname)s - %(message)s'\n",
    ")\n",
    "logger = logging.getLogger('snowflake_actions')"
   ]
  },
  {
   "cell_type": "code",
   "execution_count": null,
   "metadata": {},
   "outputs": [],
   "source": [
    "#| exporti\n",
    "\n",
    "def _expand_eviron(config: Any) -> Any:\n",
    "    \"\"\"\n",
    "    Recursively expand environment variables in a config structure.\n",
    "    Supports:\n",
    "    - ${VAR} and $VAR syntax for direct substitution\n",
    "    - ${VAR:-default} syntax for default values when VAR is not set\n",
    "    \n",
    "    Args:\n",
    "        config: Configuration object (dict, list, or primitive)\n",
    "        \n",
    "    Returns:\n",
    "        Config with environment variables expanded\n",
    "    \"\"\"\n",
    "    if isinstance(config, dict):\n",
    "        return {k: _expand_eviron(v) for k, v in config.items()}\n",
    "    elif isinstance(config, list):\n",
    "        return [_expand_eviron(i) for i in config]\n",
    "    elif isinstance(config, str):\n",
    "        result = config\n",
    "        \n",
    "        default_pattern = r'\\$\\{([^}:]+):-([^}]*)\\}'\n",
    "        \n",
    "        def replace_with_default(match):\n",
    "            env_var = match.group(1)\n",
    "            default_value = match.group(2)\n",
    "            return os.environ.get(env_var, default_value)\n",
    "        \n",
    "        result = re.sub(default_pattern, replace_with_default, result)\n",
    "        \n",
    "        std_pattern = r'\\$\\{([^}]+)\\}|\\$([a-zA-Z0-9_]+)'\n",
    "        \n",
    "        def replace_std_var(match):\n",
    "            env_var = match.group(1) or match.group(2)\n",
    "            return os.environ.get(env_var, '')\n",
    "        \n",
    "        result = re.sub(std_pattern, replace_std_var, result)\n",
    "        return result\n",
    "    else:\n",
    "        return config"
   ]
  },
  {
   "cell_type": "code",
   "execution_count": null,
   "metadata": {},
   "outputs": [],
   "source": [
    "#| export\n",
    "def load_config(config_path: str) -> Dict[str, Any]:\n",
    "    \"\"\"\n",
    "    Load configuration from TOML file with environment variable interpolation.\n",
    "    \n",
    "    Args:\n",
    "        config_path: Path to TOML config file\n",
    "        \n",
    "    Returns:\n",
    "        Dictionary containing configuration sections with env vars expanded\n",
    "    \"\"\"\n",
    "    try:\n",
    "        # Load the raw config first\n",
    "        config = toml.load(config_path)\n",
    "        \n",
    "        # Expand environment variables\n",
    "        expanded_config = _expand_eviron(config)\n",
    "        \n",
    "        logger.info(f\"Successfully loaded config from {config_path}\")\n",
    "        return expanded_config\n",
    "    except Exception as e:\n",
    "        logger.error(f\"Failed to load config: {str(e)}\")\n",
    "        raise"
   ]
  },
  {
   "cell_type": "code",
   "execution_count": null,
   "metadata": {},
   "outputs": [],
   "source": [
    "#| hide\n",
    "import nbdev; nbdev.nbdev_export()"
   ]
  }
 ],
 "metadata": {
  "kernelspec": {
   "display_name": "python3",
   "language": "python",
   "name": "python3"
  }
 },
 "nbformat": 4,
 "nbformat_minor": 4
}
