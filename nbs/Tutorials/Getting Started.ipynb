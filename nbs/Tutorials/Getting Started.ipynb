{
 "cells": [
  {
   "cell_type": "markdown",
   "id": "b857dc4b",
   "metadata": {},
   "source": [
    "# Getting Started\n",
    "\n",
    "In this tutorial, we will show you how to use and setup **TriggerKit**!"
   ]
  }
 ],
 "metadata": {
  "language_info": {
   "name": "python"
  }
 },
 "nbformat": 4,
 "nbformat_minor": 5
}
