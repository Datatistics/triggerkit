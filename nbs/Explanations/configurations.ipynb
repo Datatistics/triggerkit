{
 "cells": [
  {
   "cell_type": "markdown",
   "id": "ac4981a8",
   "metadata": {},
   "source": [
    "# Configuration Options"
   ]
  },
  {
   "cell_type": "markdown",
   "id": "c007696f",
   "metadata": {},
   "source": [
    "## Database Configuration"
   ]
  },
  {
   "cell_type": "markdown",
   "id": "d170b8a1",
   "metadata": {},
   "source": [
    "## View Configuration"
   ]
  },
  {
   "cell_type": "markdown",
   "id": "2cee79bb",
   "metadata": {},
   "source": [
    "## Job Configuration"
   ]
  }
 ],
 "metadata": {},
 "nbformat": 4,
 "nbformat_minor": 5
}
