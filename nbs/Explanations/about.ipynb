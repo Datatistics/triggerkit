{
 "cells": [
  {
   "cell_type": "markdown",
   "id": "b7c9f892",
   "metadata": {},
   "source": [
    "# What is TriggerKit?"
   ]
  },
  {
   "cell_type": "markdown",
   "id": "137e5602",
   "metadata": {},
   "source": [
    "TriggerKit is a python package made to help you build smarter data system. It was designed to fill a need the creator saw, it can be hard to make data **actionable**. It shouldn't be hard, or expensive, to keep people informed about issues or ___."
   ]
  },
  {
   "cell_type": "markdown",
   "id": "445abcd3",
   "metadata": {},
   "source": [
    "{{< lipsum 1 >}}"
   ]
  },
  {
   "cell_type": "markdown",
   "id": "d41cb52a",
   "metadata": {},
   "source": [
    "## General Design\n",
    "\n",
    "TriggerKit is pretty simple, you define a query or view that it should monitor, [when](nbs/API/02_jobs.ipynb) it should check it, and [what](01_actions.ipynb) it should do if there are any results:"
   ]
  },
  {
   "cell_type": "markdown",
   "id": "d1594081",
   "metadata": {},
   "source": [
    "```{mermaid}\n",
    "---\n",
    "title: TriggerKit Design\n",
    "---\n",
    "flowchart LR\n",
    "  A[(Snowflake)] -- Results --> B((TriggerKit))\n",
    "  B -..-> C(Send Slack)\n",
    "  B -..-> D(Run SQL)\n",
    "  B ---> E(API Call)\n",
    "  B -..-> F(Trigger DAG)\n",
    "```"
   ]
  }
 ],
 "metadata": {},
 "nbformat": 4,
 "nbformat_minor": 5
}
